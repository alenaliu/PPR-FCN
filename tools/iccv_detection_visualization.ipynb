{
 "cells": [
  {
   "cell_type": "code",
   "execution_count": 16,
   "metadata": {},
   "outputs": [],
   "source": [
    "import _init_paths\n",
    "from fast_rcnn.train import get_training_roidb, train_net\n",
    "from fast_rcnn.config import cfg, cfg_from_file, cfg_from_list, get_output_dir\n",
    "from datasets.factory import get_imdb\n",
    "import datasets.imdb\n",
    "import caffe\n",
    "import argparse\n",
    "import pprint\n",
    "import numpy as np\n",
    "import sys\n",
    "import zl_config as C\n",
    "from fast_rcnn.test import im_detect\n",
    "import matplotlib.pyplot as plt\n",
    "from fast_rcnn.nms_wrapper import nms\n",
    "\n",
    "CLASSES = ('__background__',\n",
    "           'aeroplane', 'bicycle', 'bird', 'boat',\n",
    "           'bottle', 'bus', 'car', 'cat', 'chair',\n",
    "           'cow', 'diningtable', 'dog', 'horse',\n",
    "           'motorbike', 'person', 'pottedplant',\n",
    "           'sheep', 'sofa', 'train', 'tvmonitor')\n",
    "\n",
    "def vis_detections(im, class_name, dets, thresh=0.5):\n",
    "    \"\"\"Draw detected bounding boxes.\"\"\"\n",
    "    inds = np.where(dets[:, -1] >= thresh)[0]\n",
    "    if len(inds) == 0:\n",
    "        return\n",
    "\n",
    "    im = im[:, :, (2, 1, 0)]\n",
    "    fig, ax = plt.subplots(figsize=(12, 12))\n",
    "    ax.imshow(im, aspect='equal')\n",
    "    for i in inds:\n",
    "        bbox = dets[i, :4]\n",
    "        score = dets[i, -1]\n",
    "\n",
    "        ax.add_patch(\n",
    "            plt.Rectangle((bbox[0], bbox[1]),\n",
    "                          bbox[2] - bbox[0],\n",
    "                          bbox[3] - bbox[1], fill=False,\n",
    "                          edgecolor='red', linewidth=3.5)\n",
    "        )\n",
    "        ax.text(bbox[0], bbox[1] - 2,\n",
    "                '{:s} {:.3f}'.format(class_name, score),\n",
    "                bbox=dict(facecolor='blue', alpha=0.5),\n",
    "                fontsize=14, color='white')\n",
    "\n",
    "    ax.set_title(('{} detections with '\n",
    "                  'p({} | box) >= {:.1f}').format(class_name, class_name,\n",
    "                                                  thresh),\n",
    "                 fontsize=14)\n",
    "    plt.axis('off')\n",
    "    plt.tight_layout()\n",
    "    plt.draw()"
   ]
  },
  {
   "cell_type": "code",
   "execution_count": 2,
   "metadata": {},
   "outputs": [],
   "source": [
    "def combined_roidb(imdb_names):\n",
    "    def get_roidb(imdb_name):\n",
    "        imdb = get_imdb(imdb_name)\n",
    "        print 'Loaded dataset `{:s}` for training'.format(imdb.name)\n",
    "        imdb.set_proposal_method(cfg.TRAIN.PROPOSAL_METHOD)\n",
    "        print 'Set proposal method: {:s}'.format(cfg.TRAIN.PROPOSAL_METHOD)\n",
    "        roidb = get_training_roidb(imdb)\n",
    "        return roidb\n",
    "\n",
    "    roidbs = [get_roidb(s) for s in imdb_names.split('+')]\n",
    "    roidb = roidbs[0]\n",
    "    if len(roidbs) > 1:\n",
    "        for r in roidbs[1:]:\n",
    "            roidb.extend(r)\n",
    "        imdb = datasets.imdb.imdb(imdb_names)\n",
    "    else:\n",
    "        imdb = get_imdb(imdb_names)\n",
    "    return imdb, roidb\n",
    "\n",
    "\n",
    "cfg_from_file('experiments/cfgs/rfcn_end2end.yml')"
   ]
  },
  {
   "cell_type": "code",
   "execution_count": 3,
   "metadata": {},
   "outputs": [
    {
     "name": "stdout",
     "output_type": "stream",
     "text": [
      "Loaded dataset `voc_0712_train` for training\nSet proposal method: gt\nAppending horizontally-flipped training examples...\n"
     ]
    },
    {
     "name": "stdout",
     "output_type": "stream",
     "text": [
      "voc_0712_train gt roidb loaded from /home/zawlin/g/iccv2017/data/cache/voc_0712_train_gt_roidb.pkl\ndone\nPreparing training data...\n"
     ]
    },
    {
     "name": "stderr",
     "output_type": "stream",
     "text": [
      "I0112 15:47:52.070415 21966 roidb.py:31] loading roidb from /media/zawlin/ssd/iccv2017/_cache/voc_0712_train.roidb.pkl\n"
     ]
    },
    {
     "name": "stdout",
     "output_type": "stream",
     "text": [
      "done\n"
     ]
    }
   ],
   "source": [
    "imdb, roidb = combined_roidb('voc_0712_train')"
   ]
  },
  {
   "cell_type": "code",
   "execution_count": 4,
   "metadata": {},
   "outputs": [],
   "source": [
    "import cv2\n",
    "\n",
    "ann = roidb[4000]\n",
    "im = cv2.imread(ann['image'])\n",
    "idx = 0\n",
    "for bb in ann['boxes']:   \n",
    "    cv2.rectangle(im,(bb[0],bb[1]),(bb[2],bb[3]),(0,255,0),1)\n",
    "cv2.imshow('im2',im)\n",
    "cv2.waitKey(0)\n",
    "cv2.destroyAllWindows()"
   ]
  },
  {
   "cell_type": "code",
   "execution_count": 5,
   "metadata": {},
   "outputs": [],
   "source": [
    "prototxt = 'models/pascal_voc/ResNet-101/rfcn_end2end/test_agnostic.prototxt'\n",
    "model = 'data/rfcn_models/resnet101_rfcn_final.caffemodel'\n",
    "caffe.set_mode_gpu()\n",
    "caffe.set_device(0)\n",
    "net = caffe.Net(prototxt, model, caffe.TEST)"
   ]
  },
  {
   "cell_type": "code",
   "execution_count": 8,
   "metadata": {},
   "outputs": [],
   "source": [
    "im = cv2.imread('data/demo/004545.jpg')\n",
    "scores, boxes = im_detect(net, im)"
   ]
  },
  {
   "cell_type": "code",
   "execution_count": 11,
   "metadata": {},
   "outputs": [
    {
     "name": "stdout",
     "output_type": "stream",
     "text": [
      "(300, 8)\n"
     ]
    }
   ],
   "source": [
    "print boxes.shape"
   ]
  },
  {
   "cell_type": "code",
   "execution_count": 22,
   "metadata": {},
   "outputs": [],
   "source": [
    "CONF_THRESH = 0.8\n",
    "NMS_THRESH = 0.3\n",
    "im_render = im.copy()\n",
    "for cls_ind, cls in enumerate(CLASSES[1:]):\n",
    "    cls_ind += 1 #because we skipped background\n",
    "    cls_boxes = boxes[:, 4:8]\n",
    "    cls_scores = scores[:, cls_ind]\n",
    "    dets = np.hstack((cls_boxes,\n",
    "                      cls_scores[:, np.newaxis])).astype(np.float32)\n",
    "    keep = nms(dets, NMS_THRESH)\n",
    "    dets = dets[keep, :]\n",
    "    inds = np.where(dets[:, -1] >= CONF_THRESH)[0]\n",
    "    if len(inds)>0:\n",
    "        for d in dets[inds]:\n",
    "            cv2.rectangle(im_render,(d[0],d[1]),(d[2],d[3]),(255,0,0),1)\n",
    "cv2.imshow('imrender',im_render)\n",
    "cv2.waitKey(0)\n",
    "cv2.destroyAllWindows()"
   ]
  },
  {
   "cell_type": "code",
   "execution_count": null,
   "metadata": {},
   "outputs": [],
   "source": [
    ""
   ]
  }
 ],
 "metadata": {},
 "nbformat": 4,
 "nbformat_minor": 0
}
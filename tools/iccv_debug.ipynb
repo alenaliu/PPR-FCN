{
 "cells": [
  {
   "cell_type": "code",
   "execution_count": 1,
   "metadata": {},
   "outputs": [],
   "source": [
    "import _init_paths\n",
    "from fast_rcnn.train import get_training_roidb, train_net\n",
    "from fast_rcnn.config import cfg, cfg_from_file, cfg_from_list, get_output_dir\n",
    "from datasets.factory import get_imdb\n",
    "import datasets.imdb\n",
    "import caffe\n",
    "import argparse\n",
    "import pprint\n",
    "import numpy as np\n",
    "import sys\n",
    "import zl_config as C\n",
    "from fast_rcnn.test import im_detect\n",
    "import matplotlib.pyplot as plt\n",
    "from fast_rcnn.nms_wrapper import nms\n",
    "\n",
    "CLASSES = ('__background__',\n",
    "           'aeroplane', 'bicycle', 'bird', 'boat',\n",
    "           'bottle', 'bus', 'car', 'cat', 'chair',\n",
    "           'cow', 'diningtable', 'dog', 'horse',\n",
    "           'motorbike', 'person', 'pottedplant',\n",
    "           'sheep', 'sofa', 'train', 'tvmonitor')"
   ]
  },
  {
   "cell_type": "code",
   "execution_count": 2,
   "metadata": {},
   "outputs": [],
   "source": [
    "def combined_roidb(imdb_names):\n",
    "    def get_roidb(imdb_name):\n",
    "        imdb = get_imdb(imdb_name)\n",
    "        print 'Loaded dataset `{:s}` for training'.format(imdb.name)\n",
    "        imdb.set_proposal_method(cfg.TRAIN.PROPOSAL_METHOD)\n",
    "        print 'Set proposal method: {:s}'.format(cfg.TRAIN.PROPOSAL_METHOD)\n",
    "        roidb = get_training_roidb(imdb)\n",
    "        return roidb\n",
    "\n",
    "    roidbs = [get_roidb(s) for s in imdb_names.split('+')]\n",
    "    roidb = roidbs[0]\n",
    "    if len(roidbs) > 1:\n",
    "        for r in roidbs[1:]:\n",
    "            roidb.extend(r)\n",
    "        imdb = datasets.imdb.imdb(imdb_names)\n",
    "    else:\n",
    "        imdb = get_imdb(imdb_names)\n",
    "    return imdb, roidb\n",
    "\n",
    "\n",
    "cfg_from_file('experiments/cfgs/rfcn_end2end.yml')"
   ]
  },
  {
   "cell_type": "code",
   "execution_count": 3,
   "metadata": {},
   "outputs": [
    {
     "name": "stdout",
     "output_type": "stream",
     "text": [
      "Loaded dataset `voc_0712_test` for training\nSet proposal method: gt\nAppending horizontally-flipped training examples...\n"
     ]
    },
    {
     "name": "stdout",
     "output_type": "stream",
     "text": [
      "voc_0712_test gt roidb loaded from /home/zawlin/g/iccv2017/data/cache/voc_0712_test_gt_roidb.pkl\ndone\nPreparing training data...\n"
     ]
    },
    {
     "name": "stderr",
     "output_type": "stream",
     "text": [
      "I0115 23:02:42.793850 28587 roidb.py:31] loading roidb from /media/zawlin/ssd/iccv2017/_cache/voc_0712_test.roidb.pkl\n"
     ]
    },
    {
     "name": "stdout",
     "output_type": "stream",
     "text": [
      "done\n"
     ]
    }
   ],
   "source": [
    "imdb, roidb = combined_roidb('voc_0712_test')"
   ]
  },
  {
   "cell_type": "code",
   "execution_count": 9,
   "metadata": {},
   "outputs": [],
   "source": [
    "import cv2\n",
    "\n",
    "ann = roidb[9]\n",
    "im = cv2.imread(ann['image'])\n",
    "idx = 0\n",
    "for bb in ann['boxes']:   \n",
    "    cv2.rectangle(im,(bb[0],bb[1]),(bb[2],bb[3]),(0,255,0),1)\n",
    "cv2.imshow('im2',im)\n",
    "cv2.waitKey(0)\n",
    "cv2.destroyAllWindows()"
   ]
  },
  {
   "cell_type": "code",
   "execution_count": 8,
   "metadata": {},
   "outputs": [],
   "source": [
    "net =None\n",
    "cfg.TEST.HAS_RPN=False\n",
    "prototxt = 'models/pascal_voc/ResNet-50/rfcn_end2end/test_no_rpn.prototxt'\n",
    "model = 'data/rfcn_models/resnet50_rfcn_iter_800.caffemodel'\n",
    "caffe.set_mode_gpu()\n",
    "caffe.set_device(0)\n",
    "net = caffe.Net(prototxt, model, caffe.TEST)"
   ]
  },
  {
   "cell_type": "code",
   "execution_count": 11,
   "metadata": {},
   "outputs": [
    {
     "name": "stdout",
     "output_type": "stream",
     "text": [
      "/home/zawlin/g/iccv2017/data/VOCdevkit0712/VOC0712/JPEGImages/000001.jpg\n[[ 47 239 194 370]\n [  7  11 351 497]]\n"
     ]
    },
    {
     "ename": "Exception",
     "evalue": "Input blob arguments do not match net inputs.",
     "traceback": [
      "\u001b[0;31m\u001b[0m",
      "\u001b[0;31mException\u001b[0mTraceback (most recent call last)",
      "\u001b[0;32m<ipython-input-11-738c1e5ae8b0>\u001b[0m in \u001b[0;36m<module>\u001b[0;34m()\u001b[0m\n\u001b[1;32m      4\u001b[0m \u001b[0mim\u001b[0m \u001b[0;34m=\u001b[0m \u001b[0mcv2\u001b[0m\u001b[0;34m.\u001b[0m\u001b[0mimread\u001b[0m\u001b[0;34m(\u001b[0m\u001b[0mann\u001b[0m\u001b[0;34m[\u001b[0m\u001b[0;34m'image'\u001b[0m\u001b[0;34m]\u001b[0m\u001b[0;34m)\u001b[0m\u001b[0;34m\u001b[0m\u001b[0m\n\u001b[1;32m      5\u001b[0m \u001b[0;32mprint\u001b[0m \u001b[0mann\u001b[0m\u001b[0;34m[\u001b[0m\u001b[0;34m'boxes'\u001b[0m\u001b[0;34m]\u001b[0m\u001b[0;34m\u001b[0m\u001b[0m\n\u001b[0;32m----> 6\u001b[0;31m \u001b[0mscores\u001b[0m\u001b[0;34m,\u001b[0m \u001b[0mboxes\u001b[0m \u001b[0;34m=\u001b[0m \u001b[0mim_detect\u001b[0m\u001b[0;34m(\u001b[0m\u001b[0mnet\u001b[0m\u001b[0;34m,\u001b[0m \u001b[0mim\u001b[0m\u001b[0;34m,\u001b[0m\u001b[0mboxes\u001b[0m\u001b[0;34m=\u001b[0m\u001b[0mann\u001b[0m\u001b[0;34m[\u001b[0m\u001b[0;34m'boxes'\u001b[0m\u001b[0;34m]\u001b[0m\u001b[0;34m)\u001b[0m\u001b[0;34m\u001b[0m\u001b[0m\n\u001b[0m",
      "\u001b[0;32m/home/zawlin/g/iccv2017/lib/fast_rcnn/test.py\u001b[0m in \u001b[0;36mim_detect\u001b[0;34m(net, im, boxes)\u001b[0m\n\u001b[1;32m    156\u001b[0m         \u001b[0mforward_kwargs\u001b[0m\u001b[0;34m[\u001b[0m\u001b[0;34m'rois'\u001b[0m\u001b[0;34m]\u001b[0m \u001b[0;34m=\u001b[0m \u001b[0mblobs\u001b[0m\u001b[0;34m[\u001b[0m\u001b[0;34m'rois'\u001b[0m\u001b[0;34m]\u001b[0m\u001b[0;34m.\u001b[0m\u001b[0mastype\u001b[0m\u001b[0;34m(\u001b[0m\u001b[0mnp\u001b[0m\u001b[0;34m.\u001b[0m\u001b[0mfloat32\u001b[0m\u001b[0;34m,\u001b[0m \u001b[0mcopy\u001b[0m\u001b[0;34m=\u001b[0m\u001b[0mFalse\u001b[0m\u001b[0;34m)\u001b[0m\u001b[0;34m\u001b[0m\u001b[0m\n\u001b[1;32m    157\u001b[0m     \u001b[0mforward_kwargs\u001b[0m\u001b[0;34m[\u001b[0m\u001b[0;34m'labels'\u001b[0m\u001b[0;34m]\u001b[0m \u001b[0;34m=\u001b[0m \u001b[0mblobs\u001b[0m\u001b[0;34m[\u001b[0m\u001b[0;34m'labels'\u001b[0m\u001b[0;34m]\u001b[0m\u001b[0;34m.\u001b[0m\u001b[0mastype\u001b[0m\u001b[0;34m(\u001b[0m\u001b[0mnp\u001b[0m\u001b[0;34m.\u001b[0m\u001b[0mfloat32\u001b[0m\u001b[0;34m,\u001b[0m\u001b[0mcopy\u001b[0m\u001b[0;34m=\u001b[0m\u001b[0mFalse\u001b[0m\u001b[0;34m)\u001b[0m\u001b[0;34m\u001b[0m\u001b[0m\n\u001b[0;32m--> 158\u001b[0;31m     \u001b[0mblobs_out\u001b[0m \u001b[0;34m=\u001b[0m \u001b[0mnet\u001b[0m\u001b[0;34m.\u001b[0m\u001b[0mforward\u001b[0m\u001b[0;34m(\u001b[0m\u001b[0;34m**\u001b[0m\u001b[0mforward_kwargs\u001b[0m\u001b[0;34m)\u001b[0m\u001b[0;34m\u001b[0m\u001b[0m\n\u001b[0m\u001b[1;32m    159\u001b[0m     \u001b[0;32mreturn\u001b[0m\u001b[0;34m\u001b[0m\u001b[0m\n\u001b[1;32m    160\u001b[0m \u001b[0;32mdef\u001b[0m \u001b[0mvis_detections\u001b[0m\u001b[0;34m(\u001b[0m\u001b[0mim\u001b[0m\u001b[0;34m,\u001b[0m \u001b[0mclass_name\u001b[0m\u001b[0;34m,\u001b[0m \u001b[0mdets\u001b[0m\u001b[0;34m,\u001b[0m \u001b[0mthresh\u001b[0m\u001b[0;34m=\u001b[0m\u001b[0;36m0.3\u001b[0m\u001b[0;34m)\u001b[0m\u001b[0;34m:\u001b[0m\u001b[0;34m\u001b[0m\u001b[0m\n",
      "\u001b[0;32m/home/zawlin/g/iccv2017/externals/ms_caffe/python/caffe/pycaffe.pyc\u001b[0m in \u001b[0;36m_Net_forward\u001b[0;34m(self, blobs, start, end, **kwargs)\u001b[0m\n\u001b[1;32m    111\u001b[0m     \u001b[0;32mif\u001b[0m \u001b[0mkwargs\u001b[0m\u001b[0;34m:\u001b[0m\u001b[0;34m\u001b[0m\u001b[0m\n\u001b[1;32m    112\u001b[0m         \u001b[0;32mif\u001b[0m \u001b[0mset\u001b[0m\u001b[0;34m(\u001b[0m\u001b[0mkwargs\u001b[0m\u001b[0;34m.\u001b[0m\u001b[0mkeys\u001b[0m\u001b[0;34m(\u001b[0m\u001b[0;34m)\u001b[0m\u001b[0;34m)\u001b[0m \u001b[0;34m!=\u001b[0m \u001b[0mset\u001b[0m\u001b[0;34m(\u001b[0m\u001b[0mself\u001b[0m\u001b[0;34m.\u001b[0m\u001b[0minputs\u001b[0m\u001b[0;34m)\u001b[0m\u001b[0;34m:\u001b[0m\u001b[0;34m\u001b[0m\u001b[0m\n\u001b[0;32m--> 113\u001b[0;31m             \u001b[0;32mraise\u001b[0m \u001b[0mException\u001b[0m\u001b[0;34m(\u001b[0m\u001b[0;34m'Input blob arguments do not match net inputs.'\u001b[0m\u001b[0;34m)\u001b[0m\u001b[0;34m\u001b[0m\u001b[0m\n\u001b[0m\u001b[1;32m    114\u001b[0m         \u001b[0;31m# Set input according to defined shapes and make arrays single and\u001b[0m\u001b[0;34m\u001b[0m\u001b[0;34m\u001b[0m\u001b[0m\n\u001b[1;32m    115\u001b[0m         \u001b[0;31m# C-contiguous as Caffe expects.\u001b[0m\u001b[0;34m\u001b[0m\u001b[0;34m\u001b[0m\u001b[0m\n",
      "\u001b[0;31mException\u001b[0m: Input blob arguments do not match net inputs."
     ],
     "output_type": "error"
    }
   ],
   "source": [
    "print ann['image']\n",
    "\n",
    "#im = cv2.imread('data/demo/004545.jpg')\n",
    "im = cv2.imread(ann['image'])\n",
    "print ann['boxes']\n",
    "scores, boxes = im_detect(net, im,boxes=ann['boxes'])"
   ]
  },
  {
   "cell_type": "code",
   "execution_count": 16,
   "metadata": {},
   "outputs": [
    {
     "name": "stdout",
     "output_type": "stream",
     "text": [
      "[[  82.17454529    0.          381.35394287  333.           22.0294342\n    38.55183411  377.24401855  333.        ]]\n"
     ]
    }
   ],
   "source": [
    "print boxes"
   ]
  },
  {
   "cell_type": "code",
   "execution_count": 18,
   "metadata": {},
   "outputs": [
    {
     "name": "stdout",
     "output_type": "stream",
     "text": [
      "[[  2.20294342e+01   3.85518341e+01   3.77244019e+02   3.33000000e+02\n    7.70097759e-05]]\n[[  2.20294342e+01   3.85518341e+01   3.77244019e+02   3.33000000e+02\n    2.33336483e-04]]\n[[  2.20294342e+01   3.85518341e+01   3.77244019e+02   3.33000000e+02\n    9.99422468e-07]]\n[[  2.20294342e+01   3.85518341e+01   3.77244019e+02   3.33000000e+02\n    2.59845547e-06]]\n[[  2.20294342e+01   3.85518341e+01   3.77244019e+02   3.33000000e+02\n    2.33879509e-05]]\n[[  2.20294342e+01   3.85518341e+01   3.77244019e+02   3.33000000e+02\n    9.89162686e-07]]\n[[  2.20294342e+01   3.85518341e+01   3.77244019e+02   3.33000000e+02\n    4.41333192e-04]]\n[[  2.20294342e+01   3.85518341e+01   3.77244019e+02   3.33000000e+02\n    5.21125614e-08]]\n[[  2.20294342e+01   3.85518341e+01   3.77244019e+02   3.33000000e+02\n    7.75240005e-06]]\n[[  2.20294342e+01   3.85518341e+01   3.77244019e+02   3.33000000e+02\n    4.70429768e-06]]\n[[  2.20294342e+01   3.85518341e+01   3.77244019e+02   3.33000000e+02\n    6.90469847e-07]]\n[[  2.20294342e+01   3.85518341e+01   3.77244019e+02   3.33000000e+02\n    1.50029086e-06]]\n[[  2.20294342e+01   3.85518341e+01   3.77244019e+02   3.33000000e+02\n    1.02889371e-05]]\n[[  22.0294342    38.55183411  377.24401855  333.            0.99659878]]\n[[  2.20294342e+01   3.85518341e+01   3.77244019e+02   3.33000000e+02\n    1.05133782e-04]]\n[[  2.20294342e+01   3.85518341e+01   3.77244019e+02   3.33000000e+02\n    1.62451568e-06]]\n[[  2.20294342e+01   3.85518341e+01   3.77244019e+02   3.33000000e+02\n    2.59882341e-07]]\n[[  2.20294342e+01   3.85518341e+01   3.77244019e+02   3.33000000e+02\n    4.69131635e-07]]\n[[  2.20294342e+01   3.85518341e+01   3.77244019e+02   3.33000000e+02\n    6.45876062e-05]]\n[[  2.20294342e+01   3.85518341e+01   3.77244019e+02   3.33000000e+02\n    1.72673097e-07]]\n"
     ]
    }
   ],
   "source": [
    "cls_score = net.blobs['cls_score'].data.copy()\n",
    "cls_score_reindexed_caffe= net.blobs['cls_score_reindexed'].data.copy()\n",
    "vatt_caffe = net.blobs['vatt'].data.copy()\n",
    "cls_score_tiled_caffe= net.blobs['cls_score_tiled'].data.copy()\n",
    "cls_score_tiled_transposed_caffe = net.blobs['cls_score_tiled_transposed'].data.copy()\n",
    "vatt_raw_caffe = net.blobs['vatt_raw'].data.copy()\n",
    "attention_caffe = net.blobs['attention'].data.copy()\n",
    "attention_tiled_caffe = net.blobs['attention_tiled'].data.copy()\n",
    "cls_score_tiled_caffe = net.blobs['cls_score_tiled'].data.copy()\n",
    "\n",
    "cls_score_transposed = cls_score.transpose((1,0,2,3))\n",
    "cls_score_reindexed = cls_score_transposed[15,...]\n",
    "\n",
    "attention = softmax(cls_score_reindexed.squeeze())\n",
    "rois = net.blobs['rois'].data\n",
    "rois = rois/net.blobs['im_info'].data[0,2]\n",
    "roi_scores = net.blobs['rois_score'].data\n",
    "\n",
    "vatt = np.zeros((rois.shape[0],21,1,1),np.float32)\n",
    "for i in xrange(vatt.shape[0]):\n",
    "    vatt[i] += attention[i] * cls_score[i]\n",
    "#vatt = vatt.sum(axis=0)\n",
    "vatt_summed= vatt.sum(axis=0)\n",
    "attention = net.blobs['attention'].data[:,0].squeeze()\n",
    "ind = np.argsort(attention)[::-1]\n",
    "attention = attention[ind]\n",
    "rois_all = np.hstack((rois[:,1:],roi_scores))\n",
    "rois_all =  rois_all[ind]\n",
    "for i in xrange(5):\n",
    "    ascore = attention[i]\n",
    "    roi = rois_all[i]\n",
    "    cv2.rectangle(im,(roi[0],roi[1]),(roi[2],roi[3]),(255,0,0),1)\n",
    "\n",
    "cv2.imshow('im',im)\n",
    "cv2.waitKey(0)\n",
    "timer.toc()"
   ]
  },
  {
   "cell_type": "code",
   "execution_count": 11,
   "metadata": {},
   "outputs": [],
   "source": [
    "net=None"
   ]
  },
  {
   "cell_type": "code",
   "execution_count": null,
   "metadata": {},
   "outputs": [],
   "source": [
    ""
   ]
  }
 ],
 "metadata": {},
 "nbformat": 4,
 "nbformat_minor": 0
}
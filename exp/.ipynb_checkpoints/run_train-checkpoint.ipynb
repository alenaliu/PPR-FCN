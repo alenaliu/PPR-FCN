{
 "cells": [
  {
   "cell_type": "code",
   "execution_count": 7,
   "metadata": {
    "collapsed": false
   },
   "outputs": [],
   "source": [
    "import _init_paths\n",
    "import train_net\n",
    "from fast_rcnn.train import get_training_roidb, train_net\n",
    "from fast_rcnn.config import cfg, cfg_from_file, cfg_from_list, get_output_dir\n",
    "from datasets.factory import get_imdb\n",
    "import datasets.imdb\n",
    "import caffe\n",
    "import argparse\n",
    "import pprint\n",
    "import numpy as np\n",
    "import sys\n"
   ]
  },
  {
   "cell_type": "code",
   "execution_count": 8,
   "metadata": {
    "collapsed": false
   },
   "outputs": [],
   "source": [
    "caffe.set_mode_gpu()\n",
    "caffe.set_device(0)\n",
    "np.random.seed(1234)\n",
    "caffe.set_random_seed(1234)"
   ]
  },
  {
   "cell_type": "code",
   "execution_count": null,
   "metadata": {
    "collapsed": true
   },
   "outputs": [],
   "source": [
    "imdb, roidb = combined_roidb('coco_2014_train')\n",
    "train_net('models/coco/ResNet-50/rfcn_end2end/solver_zl.prototxt', roidb, '/media/zawlin/ssd/iccv2017/_cache/output.lgo',\n",
    "          pretrained_model=None,\n",
    "          max_iters=70000)\n"
   ]
  }
 ],
 "metadata": {
  "kernelspec": {
   "display_name": "Python [env]",
   "language": "python",
   "name": "Python [env]"
  },
  "language_info": {
   "codemirror_mode": {
    "name": "ipython",
    "version": 2
   },
   "file_extension": ".py",
   "mimetype": "text/x-python",
   "name": "python",
   "nbconvert_exporter": "python",
   "pygments_lexer": "ipython2",
   "version": "2.7.11"
  }
 },
 "nbformat": 4,
 "nbformat_minor": 0
}
